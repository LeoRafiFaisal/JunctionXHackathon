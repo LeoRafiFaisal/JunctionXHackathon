{
 "cells": [
  {
   "cell_type": "code",
   "execution_count": 1,
   "metadata": {},
   "outputs": [],
   "source": [
    "from moviepy.editor import VideoFileClip\n",
    "\n",
    "# Replace 'input_video.mp4' with the path to your video file\n",
    "input_video_path = '/home/rafi-durrani/Documents/Hackathon/DeepfakeTIMIT/higher_quality/fadg0/sa2-video-fram1.avi'\n",
    "\n",
    "# Replace 'output_audio.mp3' with the desired output audio file name and format\n",
    "output_audio_path = 'output_audio.mp3'\n",
    "\n",
    "# Load the video file\n",
    "video = VideoFileClip(input_video_path)\n",
    "\n",
    "# Extract audio from the video file\n",
    "audio = video.audio\n",
    "\n",
    "# Save the extracted audio as a separate file\n",
    "#audio.write_audiofile(output_audio_path)\n",
    "\n",
    "# Close the video file\n",
    "video.close()\n"
   ]
  },
  {
   "cell_type": "code",
   "execution_count": 5,
   "metadata": {},
   "outputs": [
    {
     "data": {
      "text/plain": [
       "<moviepy.audio.io.AudioFileClip.AudioFileClip at 0x7f71c6b63340>"
      ]
     },
     "execution_count": 5,
     "metadata": {},
     "output_type": "execute_result"
    }
   ],
   "source": [
    "audio"
   ]
  },
  {
   "cell_type": "code",
   "execution_count": 6,
   "metadata": {},
   "outputs": [
    {
     "name": "stdout",
     "output_type": "stream",
     "text": [
      "Using cpu for inference.\n",
      "Reading video frames...\n",
      "Number of frames available for inference: 103\n",
      "Extracting raw audio...\n",
      "ffmpeg version 4.2.2 Copyright (c) 2000-2019 the FFmpeg developers\n",
      "  built with gcc 7.3.0 (crosstool-NG 1.23.0.449-a04d0)\n",
      "  configuration: --prefix=/tmp/build/80754af9/ffmpeg_1587154242452/_h_env_placehold_placehold_placehold_placehold_placehold_placehold_placehold_placehold_placehold_placehold_placehold_placehold_placehold_placehold_placehold_placehold_placehold_placehold_placehold_placehold_placeho --cc=/tmp/build/80754af9/ffmpeg_1587154242452/_build_env/bin/x86_64-conda_cos6-linux-gnu-cc --disable-doc --enable-avresample --enable-gmp --enable-hardcoded-tables --enable-libfreetype --enable-libvpx --enable-pthreads --enable-libopus --enable-postproc --enable-pic --enable-pthreads --enable-shared --enable-static --enable-version3 --enable-zlib --enable-libmp3lame --disable-nonfree --enable-gpl --enable-gnutls --disable-openssl --enable-libopenh264 --enable-libx264\n",
      "  libavutil      56. 31.100 / 56. 31.100\n",
      "  libavcodec     58. 54.100 / 58. 54.100\n",
      "  libavformat    58. 29.100 / 58. 29.100\n",
      "  libavdevice    58.  8.100 / 58.  8.100\n",
      "  libavfilter     7. 57.100 /  7. 57.100\n",
      "  libavresample   4.  0.  0 /  4.  0.  0\n",
      "  libswscale      5.  5.100 /  5.  5.100\n",
      "  libswresample   3.  5.100 /  3.  5.100\n",
      "  libpostproc    55.  5.100 / 55.  5.100\n",
      "Input #0, avi, from 'DeepfakeTIMIT/higher_quality/fadg0/sa1-video-fram1.avi':\n",
      "  Metadata:\n",
      "    encoder         : Lavf57.83.100\n",
      "  Duration: 00:00:04.93, start: 0.000000, bitrate: 359 kb/s\n",
      "    Stream #0:0: Video: h264 (High) (avc1 / 0x31637661), yuv420p(progressive), 512x384, 280 kb/s, 25 fps, 25 tbr, 25 tbn, 50 tbc\n",
      "    Stream #0:1: Audio: aac (LC) ([255][0][0][0] / 0x00FF), 16000 Hz, mono, fltp, 69 kb/s\n",
      "\u001b[1;31mtemp/temp.wav: No such file or directory\n",
      "\u001b[0m/home/rafi-durrani/Documents/Hackathon/wavelib/Wav2Lip-master/audio.py:10: UserWarning: PySoundFile failed. Trying audioread instead.\n",
      "  return librosa.core.load(path, sr=sr)[0]\n",
      "/home/rafi-durrani/anaconda3/envs/pointcloud/lib/python3.10/site-packages/librosa/core/audio.py:183: FutureWarning: librosa.core.audio.__audioread_load\n",
      "\tDeprecated as of librosa version 0.10.0.\n",
      "\tIt will be removed in librosa version 1.0.\n",
      "  y, sr_native = __audioread_load(path, offset, duration, dtype)\n",
      "Traceback (most recent call last):\n",
      "  File \"/home/rafi-durrani/anaconda3/envs/pointcloud/lib/python3.10/site-packages/librosa/core/audio.py\", line 175, in load\n",
      "    y, sr_native = __soundfile_load(path, offset, duration, dtype)\n",
      "  File \"/home/rafi-durrani/anaconda3/envs/pointcloud/lib/python3.10/site-packages/librosa/core/audio.py\", line 208, in __soundfile_load\n",
      "    context = sf.SoundFile(path)\n",
      "  File \"/home/rafi-durrani/anaconda3/envs/pointcloud/lib/python3.10/site-packages/soundfile.py\", line 658, in __init__\n",
      "    self._file = self._open(file, mode_int, closefd)\n",
      "  File \"/home/rafi-durrani/anaconda3/envs/pointcloud/lib/python3.10/site-packages/soundfile.py\", line 1216, in _open\n",
      "    raise LibsndfileError(err, prefix=\"Error opening {0!r}: \".format(self.name))\n",
      "soundfile.LibsndfileError: Error opening 'temp/temp.wav': System error.\n",
      "\n",
      "During handling of the above exception, another exception occurred:\n",
      "\n",
      "Traceback (most recent call last):\n",
      "  File \"/home/rafi-durrani/Documents/Hackathon/wavelib/Wav2Lip-master/inference.py\", line 280, in <module>\n",
      "    main()\n",
      "  File \"/home/rafi-durrani/Documents/Hackathon/wavelib/Wav2Lip-master/inference.py\", line 224, in main\n",
      "    wav = audio.load_wav(args.audio, 16000)\n",
      "  File \"/home/rafi-durrani/Documents/Hackathon/wavelib/Wav2Lip-master/audio.py\", line 10, in load_wav\n",
      "    return librosa.core.load(path, sr=sr)[0]\n",
      "  File \"/home/rafi-durrani/anaconda3/envs/pointcloud/lib/python3.10/site-packages/librosa/core/audio.py\", line 183, in load\n",
      "    y, sr_native = __audioread_load(path, offset, duration, dtype)\n",
      "  File \"<decorator-gen-6>\", line 2, in __audioread_load\n",
      "  File \"/home/rafi-durrani/anaconda3/envs/pointcloud/lib/python3.10/site-packages/librosa/util/decorators.py\", line 59, in __wrapper\n",
      "    return func(*args, **kwargs)\n",
      "  File \"/home/rafi-durrani/anaconda3/envs/pointcloud/lib/python3.10/site-packages/librosa/core/audio.py\", line 239, in __audioread_load\n",
      "    reader = audioread.audio_open(path)\n",
      "  File \"/home/rafi-durrani/anaconda3/envs/pointcloud/lib/python3.10/site-packages/audioread/__init__.py\", line 127, in audio_open\n",
      "    return BackendClass(path)\n",
      "  File \"/home/rafi-durrani/anaconda3/envs/pointcloud/lib/python3.10/site-packages/audioread/rawread.py\", line 59, in __init__\n",
      "    self._fh = open(filename, 'rb')\n",
      "FileNotFoundError: [Errno 2] No such file or directory: 'temp/temp.wav'\n"
     ]
    }
   ],
   "source": [
    "!python wavelib/Wav2Lip-master/inference.py --checkpoint_path wavelib/Wav2Lip-master/checkpoints/wav2lip.pth  --face /home/rafi-durrani/Documents/Hackathon/DeepfakeTIMIT/higher_quality/fadg0/sa2-video-fram1.avi --audio DeepfakeTIMIT/higher_quality/fadg0/sa1-video-fram1.avi"
   ]
  }
 ],
 "metadata": {
  "kernelspec": {
   "display_name": "pointcloud",
   "language": "python",
   "name": "python3"
  },
  "language_info": {
   "codemirror_mode": {
    "name": "ipython",
    "version": 3
   },
   "file_extension": ".py",
   "mimetype": "text/x-python",
   "name": "python",
   "nbconvert_exporter": "python",
   "pygments_lexer": "ipython3",
   "version": "3.10.13"
  }
 },
 "nbformat": 4,
 "nbformat_minor": 2
}
